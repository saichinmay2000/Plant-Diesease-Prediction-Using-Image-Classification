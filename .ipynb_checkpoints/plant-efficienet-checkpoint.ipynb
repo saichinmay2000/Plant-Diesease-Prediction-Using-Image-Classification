{
 "cells": [
  {
   "cell_type": "code",
   "execution_count": 1,
   "id": "invalid-opposition",
   "metadata": {
    "_cell_guid": "b1076dfc-b9ad-4769-8c92-a6c4dae69d19",
    "_uuid": "8f2839f25d086af736a60e9eeb907d3b93b6e0e5",
    "execution": {
     "iopub.execute_input": "2021-04-01T09:55:02.404869Z",
     "iopub.status.busy": "2021-04-01T09:55:02.404306Z",
     "iopub.status.idle": "2021-04-01T09:55:08.114992Z",
     "shell.execute_reply": "2021-04-01T09:55:08.113972Z"
    },
    "papermill": {
     "duration": 5.727309,
     "end_time": "2021-04-01T09:55:08.115151",
     "exception": false,
     "start_time": "2021-04-01T09:55:02.387842",
     "status": "completed"
    },
    "tags": []
   },
   "outputs": [],
   "source": [
    "import tensorflow as tf\n",
    "from tensorflow import keras\n",
    "from tensorflow.keras import layers\n",
    "from tensorflow.keras.preprocessing import image_dataset_from_directory\n",
    "from tensorflow.keras.callbacks import EarlyStopping\n",
    "from keras_preprocessing.image import ImageDataGenerator\n",
    "import matplotlib.pyplot as plt\n",
    "import numpy as np\n",
    "from IPython.display import Image, display\n",
    "import sys\n",
    "import pandas as pd\n",
    "from keras.layers import Activation, Dense\n",
    "from tensorflow.keras.layers import Dense, Flatten\n",
    "from tensorflow.keras import Sequential\n",
    "from keras.layers import BatchNormalization"
   ]
  },
  {
   "cell_type": "code",
   "execution_count": 2,
   "id": "substantial-actress",
   "metadata": {
    "execution": {
     "iopub.execute_input": "2021-04-01T09:55:08.142056Z",
     "iopub.status.busy": "2021-04-01T09:55:08.141440Z",
     "iopub.status.idle": "2021-04-01T09:55:12.768166Z",
     "shell.execute_reply": "2021-04-01T09:55:12.768823Z"
    },
    "papermill": {
     "duration": 4.643631,
     "end_time": "2021-04-01T09:55:12.769047",
     "exception": false,
     "start_time": "2021-04-01T09:55:08.125416",
     "status": "completed"
    },
    "tags": []
   },
   "outputs": [
    {
     "name": "stdout",
     "output_type": "stream",
     "text": [
      "Downloading data from https://storage.googleapis.com/tensorflow/keras-applications/vgg16/vgg16_weights_tf_dim_ordering_tf_kernels_notop.h5\n",
      "58892288/58889256 [==============================] - 1s 0us/step\n"
     ]
    }
   ],
   "source": [
    "base_model = tf.keras.applications.VGG16(weights=\"imagenet\",\n",
    "    input_shape=(100, 100, 3),\n",
    "    include_top=False)\n",
    "\n",
    "vgg_layer_list = base_model.layers\n",
    "\n",
    "base_model = keras.Sequential()\n",
    "\n",
    "for i in range(len(vgg_layer_list)-1):\n",
    "   base_model.add(vgg_layer_list[i])"
   ]
  },
  {
   "cell_type": "code",
   "execution_count": 3,
   "id": "improved-cambodia",
   "metadata": {
    "execution": {
     "iopub.execute_input": "2021-04-01T09:55:12.801067Z",
     "iopub.status.busy": "2021-04-01T09:55:12.799148Z",
     "iopub.status.idle": "2021-04-01T09:55:12.801673Z",
     "shell.execute_reply": "2021-04-01T09:55:12.802093Z"
    },
    "papermill": {
     "duration": 0.020521,
     "end_time": "2021-04-01T09:55:12.802227",
     "exception": false,
     "start_time": "2021-04-01T09:55:12.781706",
     "status": "completed"
    },
    "tags": []
   },
   "outputs": [],
   "source": [
    "base_model.trainable = False"
   ]
  },
  {
   "cell_type": "code",
   "execution_count": 4,
   "id": "detailed-customs",
   "metadata": {
    "execution": {
     "iopub.execute_input": "2021-04-01T09:55:12.831735Z",
     "iopub.status.busy": "2021-04-01T09:55:12.830899Z",
     "iopub.status.idle": "2021-04-01T09:55:12.847594Z",
     "shell.execute_reply": "2021-04-01T09:55:12.847105Z"
    },
    "papermill": {
     "duration": 0.032577,
     "end_time": "2021-04-01T09:55:12.847719",
     "exception": false,
     "start_time": "2021-04-01T09:55:12.815142",
     "status": "completed"
    },
    "tags": []
   },
   "outputs": [],
   "source": [
    "model = Sequential()\n",
    "model.add(base_model)\n",
    "model.add(Flatten())\n",
    "model.add(Dense(128, activation='relu'))\n",
    "model.add(layers.Dropout(rate=0.1))\n",
    "model.add(Dense(64, activation='relu'))\n",
    "model.add(layers.Dropout(rate=0.1))\n",
    "model.add(Flatten())\n",
    "model.add(Dense(38, activation='softmax'))"
   ]
  },
  {
   "cell_type": "code",
   "execution_count": 5,
   "id": "vietnamese-indie",
   "metadata": {
    "execution": {
     "iopub.execute_input": "2021-04-01T09:55:12.882038Z",
     "iopub.status.busy": "2021-04-01T09:55:12.881230Z",
     "iopub.status.idle": "2021-04-01T09:55:12.888604Z",
     "shell.execute_reply": "2021-04-01T09:55:12.888994Z"
    },
    "papermill": {
     "duration": 0.028784,
     "end_time": "2021-04-01T09:55:12.889124",
     "exception": false,
     "start_time": "2021-04-01T09:55:12.860340",
     "status": "completed"
    },
    "tags": []
   },
   "outputs": [],
   "source": [
    "model.compile(optimizer='adam', loss = \"categorical_crossentropy\" , metrics =['accuracy'])"
   ]
  },
  {
   "cell_type": "code",
   "execution_count": 6,
   "id": "qualified-jumping",
   "metadata": {
    "execution": {
     "iopub.execute_input": "2021-04-01T09:55:12.919800Z",
     "iopub.status.busy": "2021-04-01T09:55:12.918992Z",
     "iopub.status.idle": "2021-04-01T09:55:12.922195Z",
     "shell.execute_reply": "2021-04-01T09:55:12.921710Z"
    },
    "papermill": {
     "duration": 0.020616,
     "end_time": "2021-04-01T09:55:12.922321",
     "exception": false,
     "start_time": "2021-04-01T09:55:12.901705",
     "status": "completed"
    },
    "tags": []
   },
   "outputs": [],
   "source": [
    "from tensorflow.keras.preprocessing.image import ImageDataGenerator\n",
    "\n",
    "train_datagen = tf.keras.preprocessing.image.ImageDataGenerator(\n",
    "        rescale=1./255,\n",
    "        shear_range=0.2,\n",
    "        zoom_range=0.2,\n",
    "        horizontal_flip=True)"
   ]
  },
  {
   "cell_type": "code",
   "execution_count": 7,
   "id": "biblical-chambers",
   "metadata": {
    "execution": {
     "iopub.execute_input": "2021-04-01T09:55:12.953507Z",
     "iopub.status.busy": "2021-04-01T09:55:12.952931Z",
     "iopub.status.idle": "2021-04-01T09:55:38.284649Z",
     "shell.execute_reply": "2021-04-01T09:55:38.285866Z"
    },
    "papermill": {
     "duration": 25.350965,
     "end_time": "2021-04-01T09:55:38.286081",
     "exception": false,
     "start_time": "2021-04-01T09:55:12.935116",
     "status": "completed"
    },
    "tags": []
   },
   "outputs": [
    {
     "name": "stdout",
     "output_type": "stream",
     "text": [
      "Found 43456 images belonging to 38 classes.\n",
      "Found 10849 images belonging to 38 classes.\n"
     ]
    }
   ],
   "source": [
    "train_ds_ = train_datagen.flow_from_directory(\n",
    "    '../input/plant-disease/dataset/train',\n",
    "    #classes='inferred',\n",
    "    class_mode='categorical',\n",
    "    target_size=(100,100),\n",
    "    #interpolation='nearest',\n",
    "    #shuffle=True,\n",
    "    batch_size=32\n",
    ")\n",
    "\n",
    "\n",
    "test_datagen = ImageDataGenerator(rescale=1./255)\n",
    "\n",
    "test_ds_ = test_datagen.flow_from_directory(\n",
    "    '../input/plant-disease/dataset/test',\n",
    "    #classes='inferred',\n",
    "    class_mode='categorical',\n",
    "    target_size=(100,100),\n",
    "    #interpolation='nearest',\n",
    "    #shuffle=False,\n",
    "    batch_size=32\n",
    ")"
   ]
  },
  {
   "cell_type": "code",
   "execution_count": 8,
   "id": "editorial-account",
   "metadata": {
    "execution": {
     "iopub.execute_input": "2021-04-01T09:55:38.344567Z",
     "iopub.status.busy": "2021-04-01T09:55:38.343679Z",
     "iopub.status.idle": "2021-04-01T11:24:23.781870Z",
     "shell.execute_reply": "2021-04-01T11:24:23.782329Z"
    },
    "papermill": {
     "duration": 5325.470929,
     "end_time": "2021-04-01T11:24:23.782537",
     "exception": false,
     "start_time": "2021-04-01T09:55:38.311608",
     "status": "completed"
    },
    "tags": []
   },
   "outputs": [
    {
     "name": "stdout",
     "output_type": "stream",
     "text": [
      "Epoch 1/25\n",
      "1358/1358 [==============================] - 331s 243ms/step - loss: 1.6565 - accuracy: 0.5369 - val_loss: 0.5573 - val_accuracy: 0.8218\n",
      "Epoch 2/25\n",
      "1358/1358 [==============================] - 205s 151ms/step - loss: 0.7262 - accuracy: 0.7614 - val_loss: 0.4327 - val_accuracy: 0.8547\n",
      "Epoch 3/25\n",
      "1358/1358 [==============================] - 206s 152ms/step - loss: 0.6058 - accuracy: 0.7995 - val_loss: 0.3905 - val_accuracy: 0.8694\n",
      "Epoch 4/25\n",
      "1358/1358 [==============================] - 202s 149ms/step - loss: 0.5389 - accuracy: 0.8236 - val_loss: 0.3975 - val_accuracy: 0.8694\n",
      "Epoch 5/25\n",
      "1358/1358 [==============================] - 201s 148ms/step - loss: 0.5080 - accuracy: 0.8317 - val_loss: 0.3750 - val_accuracy: 0.8767\n",
      "Epoch 6/25\n",
      "1358/1358 [==============================] - 203s 150ms/step - loss: 0.4830 - accuracy: 0.8381 - val_loss: 0.3661 - val_accuracy: 0.8782\n",
      "Epoch 7/25\n",
      "1358/1358 [==============================] - 204s 150ms/step - loss: 0.4551 - accuracy: 0.8473 - val_loss: 0.3464 - val_accuracy: 0.8827\n",
      "Epoch 8/25\n",
      "1358/1358 [==============================] - 206s 152ms/step - loss: 0.4408 - accuracy: 0.8578 - val_loss: 0.3599 - val_accuracy: 0.8765\n",
      "Epoch 9/25\n",
      "1358/1358 [==============================] - 208s 153ms/step - loss: 0.4308 - accuracy: 0.8567 - val_loss: 0.3444 - val_accuracy: 0.8884\n",
      "Epoch 10/25\n",
      "1358/1358 [==============================] - 209s 154ms/step - loss: 0.4041 - accuracy: 0.8656 - val_loss: 0.3190 - val_accuracy: 0.8983\n",
      "Epoch 11/25\n",
      "1358/1358 [==============================] - 211s 155ms/step - loss: 0.4033 - accuracy: 0.8629 - val_loss: 0.3162 - val_accuracy: 0.8990\n",
      "Epoch 12/25\n",
      "1358/1358 [==============================] - 207s 152ms/step - loss: 0.3858 - accuracy: 0.8699 - val_loss: 0.3256 - val_accuracy: 0.8950\n",
      "Epoch 13/25\n",
      "1358/1358 [==============================] - 203s 150ms/step - loss: 0.3741 - accuracy: 0.8751 - val_loss: 0.2728 - val_accuracy: 0.9089\n",
      "Epoch 14/25\n",
      "1358/1358 [==============================] - 205s 151ms/step - loss: 0.3690 - accuracy: 0.8786 - val_loss: 0.2785 - val_accuracy: 0.9072\n",
      "Epoch 15/25\n",
      "1358/1358 [==============================] - 204s 150ms/step - loss: 0.3504 - accuracy: 0.8819 - val_loss: 0.3330 - val_accuracy: 0.8852\n",
      "Epoch 16/25\n",
      "1358/1358 [==============================] - 210s 155ms/step - loss: 0.3519 - accuracy: 0.8806 - val_loss: 0.3158 - val_accuracy: 0.8965\n",
      "Epoch 17/25\n",
      "1358/1358 [==============================] - 212s 156ms/step - loss: 0.3467 - accuracy: 0.8832 - val_loss: 0.2757 - val_accuracy: 0.9112\n",
      "Epoch 18/25\n",
      "1358/1358 [==============================] - 207s 152ms/step - loss: 0.3455 - accuracy: 0.8832 - val_loss: 0.3106 - val_accuracy: 0.9052\n",
      "Epoch 19/25\n",
      "1358/1358 [==============================] - 209s 154ms/step - loss: 0.3318 - accuracy: 0.8872 - val_loss: 0.3108 - val_accuracy: 0.8992\n",
      "Epoch 20/25\n",
      "1358/1358 [==============================] - 222s 163ms/step - loss: 0.3227 - accuracy: 0.8920 - val_loss: 0.2966 - val_accuracy: 0.9040\n",
      "Epoch 21/25\n",
      "1358/1358 [==============================] - 208s 153ms/step - loss: 0.3227 - accuracy: 0.8933 - val_loss: 0.2814 - val_accuracy: 0.9099\n",
      "Epoch 22/25\n",
      "1358/1358 [==============================] - 209s 154ms/step - loss: 0.3262 - accuracy: 0.8891 - val_loss: 0.2697 - val_accuracy: 0.9156\n",
      "Epoch 23/25\n",
      "1358/1358 [==============================] - 214s 158ms/step - loss: 0.3159 - accuracy: 0.8944 - val_loss: 0.3165 - val_accuracy: 0.9013\n",
      "Epoch 24/25\n",
      "1358/1358 [==============================] - 216s 159ms/step - loss: 0.3193 - accuracy: 0.8914 - val_loss: 0.2830 - val_accuracy: 0.9087\n",
      "Epoch 25/25\n",
      "1358/1358 [==============================] - 205s 151ms/step - loss: 0.3084 - accuracy: 0.8975 - val_loss: 0.2745 - val_accuracy: 0.9113\n"
     ]
    }
   ],
   "source": [
    "from tensorflow.keras.callbacks import EarlyStopping\n",
    "early_stopping2_acc = EarlyStopping(\n",
    "    min_delta=0.0001,\n",
    "    patience=5,\n",
    "    monitor=\"accuracy\",\n",
    "    restore_best_weights=True,\n",
    "    mode=\"auto\"\n",
    ")\n",
    "\n",
    "early_stopping2_loss = EarlyStopping(\n",
    "    min_delta=0.0001,\n",
    "    patience=5,\n",
    "    monitor=\"loss\",\n",
    "    restore_best_weights=True,\n",
    "    mode=\"auto\"\n",
    ")\n",
    "\n",
    "history2 = model.fit(\n",
    "    train_ds_,\n",
    "    batch_size = 32,\n",
    "    epochs = 25,\n",
    "    \n",
    "    validation_data= test_ds_,\n",
    "    callbacks = [early_stopping2_acc, early_stopping2_loss]\n",
    ")"
   ]
  },
  {
   "cell_type": "code",
   "execution_count": 9,
   "id": "incident-engineering",
   "metadata": {
    "execution": {
     "iopub.execute_input": "2021-04-01T11:24:41.987344Z",
     "iopub.status.busy": "2021-04-01T11:24:41.986788Z",
     "iopub.status.idle": "2021-04-01T12:53:54.467879Z",
     "shell.execute_reply": "2021-04-01T12:53:54.467029Z"
    },
    "papermill": {
     "duration": 5361.403157,
     "end_time": "2021-04-01T12:53:54.468009",
     "exception": false,
     "start_time": "2021-04-01T11:24:33.064852",
     "status": "completed"
    },
    "tags": []
   },
   "outputs": [
    {
     "name": "stdout",
     "output_type": "stream",
     "text": [
      "Epoch 1/25\n",
      "1358/1358 [==============================] - 199s 146ms/step - loss: 0.3141 - accuracy: 0.8952 - val_loss: 0.2732 - val_accuracy: 0.9104\n",
      "Epoch 2/25\n",
      "1358/1358 [==============================] - 199s 146ms/step - loss: 0.3060 - accuracy: 0.8977 - val_loss: 0.2732 - val_accuracy: 0.9146\n",
      "Epoch 3/25\n",
      "1358/1358 [==============================] - 208s 153ms/step - loss: 0.3052 - accuracy: 0.8987 - val_loss: 0.2746 - val_accuracy: 0.9120\n",
      "Epoch 4/25\n",
      "1358/1358 [==============================] - 202s 149ms/step - loss: 0.3028 - accuracy: 0.9013 - val_loss: 0.2521 - val_accuracy: 0.9183\n",
      "Epoch 5/25\n",
      "1358/1358 [==============================] - 207s 153ms/step - loss: 0.2993 - accuracy: 0.8998 - val_loss: 0.2727 - val_accuracy: 0.9129\n",
      "Epoch 6/25\n",
      "1358/1358 [==============================] - 199s 147ms/step - loss: 0.2901 - accuracy: 0.9016 - val_loss: 0.2603 - val_accuracy: 0.9177\n",
      "Epoch 7/25\n",
      "1358/1358 [==============================] - 208s 154ms/step - loss: 0.2850 - accuracy: 0.9042 - val_loss: 0.2748 - val_accuracy: 0.9138\n",
      "Epoch 8/25\n",
      "1358/1358 [==============================] - 203s 150ms/step - loss: 0.2855 - accuracy: 0.9051 - val_loss: 0.2716 - val_accuracy: 0.9127\n",
      "Epoch 9/25\n",
      "1358/1358 [==============================] - 213s 157ms/step - loss: 0.2863 - accuracy: 0.9043 - val_loss: 0.2470 - val_accuracy: 0.9188\n",
      "Epoch 10/25\n",
      "1358/1358 [==============================] - 204s 150ms/step - loss: 0.2845 - accuracy: 0.9050 - val_loss: 0.2404 - val_accuracy: 0.9217\n",
      "Epoch 11/25\n",
      "1358/1358 [==============================] - 211s 155ms/step - loss: 0.2761 - accuracy: 0.9067 - val_loss: 0.2673 - val_accuracy: 0.9168\n",
      "Epoch 12/25\n",
      "1358/1358 [==============================] - 203s 149ms/step - loss: 0.2764 - accuracy: 0.9079 - val_loss: 0.2974 - val_accuracy: 0.9067\n",
      "Epoch 13/25\n",
      "1358/1358 [==============================] - 212s 156ms/step - loss: 0.2755 - accuracy: 0.9075 - val_loss: 0.2807 - val_accuracy: 0.9129\n",
      "Epoch 14/25\n",
      "1358/1358 [==============================] - 203s 150ms/step - loss: 0.2718 - accuracy: 0.9094 - val_loss: 0.2882 - val_accuracy: 0.9100\n",
      "Epoch 15/25\n",
      "1358/1358 [==============================] - 229s 169ms/step - loss: 0.2700 - accuracy: 0.9095 - val_loss: 0.2619 - val_accuracy: 0.9198\n",
      "Epoch 16/25\n",
      "1358/1358 [==============================] - 207s 152ms/step - loss: 0.2650 - accuracy: 0.9123 - val_loss: 0.2600 - val_accuracy: 0.9202\n",
      "Epoch 17/25\n",
      "1358/1358 [==============================] - 205s 151ms/step - loss: 0.2760 - accuracy: 0.9080 - val_loss: 0.2602 - val_accuracy: 0.9179\n",
      "Epoch 18/25\n",
      "1358/1358 [==============================] - 232s 171ms/step - loss: 0.2646 - accuracy: 0.9119 - val_loss: 0.2624 - val_accuracy: 0.9183\n",
      "Epoch 19/25\n",
      "1358/1358 [==============================] - 227s 167ms/step - loss: 0.2634 - accuracy: 0.9123 - val_loss: 0.2704 - val_accuracy: 0.9128\n",
      "Epoch 20/25\n",
      "1358/1358 [==============================] - 216s 159ms/step - loss: 0.2612 - accuracy: 0.9140 - val_loss: 0.2567 - val_accuracy: 0.9198\n",
      "Epoch 21/25\n",
      "1358/1358 [==============================] - 210s 154ms/step - loss: 0.2620 - accuracy: 0.9111 - val_loss: 0.2511 - val_accuracy: 0.9196\n",
      "Epoch 22/25\n",
      "1358/1358 [==============================] - 222s 163ms/step - loss: 0.2625 - accuracy: 0.9129 - val_loss: 0.2535 - val_accuracy: 0.9193\n",
      "Epoch 23/25\n",
      "1358/1358 [==============================] - 259s 191ms/step - loss: 0.2533 - accuracy: 0.9159 - val_loss: 0.3322 - val_accuracy: 0.8987\n",
      "Epoch 24/25\n",
      "1358/1358 [==============================] - 252s 185ms/step - loss: 0.2508 - accuracy: 0.9170 - val_loss: 0.2619 - val_accuracy: 0.9191\n",
      "Epoch 25/25\n",
      "1358/1358 [==============================] - 221s 162ms/step - loss: 0.2533 - accuracy: 0.9165 - val_loss: 0.2609 - val_accuracy: 0.9204\n"
     ]
    }
   ],
   "source": [
    "from tensorflow.keras.callbacks import EarlyStopping\n",
    "early_stopping2_acc = EarlyStopping(\n",
    "    min_delta=0.0001,\n",
    "    patience=5,\n",
    "    monitor=\"accuracy\",\n",
    "    restore_best_weights=True,\n",
    "    mode=\"auto\"\n",
    ")\n",
    "\n",
    "early_stopping2_loss = EarlyStopping(\n",
    "    min_delta=0.0001,\n",
    "    patience=5,\n",
    "    monitor=\"loss\",\n",
    "    restore_best_weights=True,\n",
    "    mode=\"auto\"\n",
    ")\n",
    "\n",
    "history2 = model.fit(\n",
    "    train_ds_,\n",
    "    batch_size = 32,\n",
    "    epochs = 25,\n",
    "    \n",
    "    validation_data= test_ds_,\n",
    "    callbacks = [early_stopping2_acc, early_stopping2_loss]\n",
    ")"
   ]
  },
  {
   "cell_type": "code",
   "execution_count": 10,
   "id": "bound-disclaimer",
   "metadata": {
    "execution": {
     "iopub.execute_input": "2021-04-01T12:54:30.943656Z",
     "iopub.status.busy": "2021-04-01T12:54:30.942584Z",
     "iopub.status.idle": "2021-04-01T12:54:31.114925Z",
     "shell.execute_reply": "2021-04-01T12:54:31.115913Z"
    },
    "papermill": {
     "duration": 18.160515,
     "end_time": "2021-04-01T12:54:31.116135",
     "exception": false,
     "start_time": "2021-04-01T12:54:12.955620",
     "status": "completed"
    },
    "tags": []
   },
   "outputs": [],
   "source": [
    "model.save('./LEAF_disease_classifier.h5')"
   ]
  },
  {
   "cell_type": "code",
   "execution_count": 11,
   "id": "respected-england",
   "metadata": {
    "execution": {
     "iopub.execute_input": "2021-04-01T12:55:08.335565Z",
     "iopub.status.busy": "2021-04-01T12:55:08.335025Z",
     "iopub.status.idle": "2021-04-01T12:55:08.535476Z",
     "shell.execute_reply": "2021-04-01T12:55:08.534562Z"
    },
    "papermill": {
     "duration": 18.997025,
     "end_time": "2021-04-01T12:55:08.535618",
     "exception": false,
     "start_time": "2021-04-01T12:54:49.538593",
     "status": "completed"
    },
    "tags": []
   },
   "outputs": [
    {
     "data": {
      "image/png": "[encoded data removed]",
      "text/plain": [
       "<PIL.Image.Image image mode=RGB size=100x100 at 0x7F8732B165D0>"
      ]
     },
     "metadata": {},
     "output_type": "display_data"
    },
    {
     "name": "stdout",
     "output_type": "stream",
     "text": [
      "Grape___Black_rot\n",
      "[1.00753586e-10 3.29990341e-11 7.19844919e-14 4.33343157e-15\n",
      " 5.01279899e-13 5.29155180e-17 2.75582085e-15 2.45642149e-16\n",
      " 2.74774841e-15 2.79259344e-24 7.77320501e-32 9.93711948e-01\n",
      " 5.94230415e-03 7.76988818e-05 2.68070464e-04 3.73327532e-21\n",
      " 7.36480642e-16 4.30364469e-31 1.43037755e-15 2.10638148e-12\n",
      " 4.44741527e-14 1.75610470e-12 3.08426182e-18 2.45901528e-11\n",
      " 4.69650355e-17 7.80216752e-14 2.31529795e-11 1.63470745e-12\n",
      " 2.22862053e-13 5.25176820e-12 2.71519157e-12 1.93364097e-18\n",
      " 1.25085375e-09 1.72284477e-16 1.22452084e-13 1.61904419e-15\n",
      " 2.79307195e-17 1.52747107e-20]\n"
     ]
    }
   ],
   "source": [
    "from tensorflow.keras.preprocessing.image import *\n",
    "from tensorflow.keras.applications.efficientnet import preprocess_input\n",
    "\n",
    "img = load_img('../input/plant-disease/dataset/train/Grape___Black_rot/004175d8-dc74-4285-8401-3cc9565730bb___FAM_B.Rot 0626.JPG', target_size = (100,100))\n",
    "display(img)\n",
    "img= img_to_array(img)\n",
    "img = img/255\n",
    "img = np.expand_dims(img, axis=0)\n",
    "img = preprocess_input(img)\n",
    "pred = model.predict(img)\n",
    "predicted_index = np.argmax(pred[0])\n",
    "class_labels = list(test_ds_.class_indices)\n",
    "print(class_labels[predicted_index])\n",
    "print(pred[0])"
   ]
  },
  {
   "cell_type": "code",
   "execution_count": null,
   "id": "patent-martial",
   "metadata": {
    "papermill": {
     "duration": 18.570749,
     "end_time": "2021-04-01T12:55:45.008209",
     "exception": false,
     "start_time": "2021-04-01T12:55:26.437460",
     "status": "completed"
    },
    "tags": []
   },
   "outputs": [],
   "source": []
  },
  {
   "cell_type": "code",
   "execution_count": null,
   "id": "seventh-cedar",
   "metadata": {
    "papermill": {
     "duration": 18.277965,
     "end_time": "2021-04-01T12:56:21.258204",
     "exception": false,
     "start_time": "2021-04-01T12:56:02.980239",
     "status": "completed"
    },
    "tags": []
   },
   "outputs": [],
   "source": []
  }
 ],
 "metadata": {
  "kernelspec": {
   "display_name": "Python 3",
   "language": "python",
   "name": "python3"
  },
  "language_info": {
   "codemirror_mode": {
    "name": "ipython",
    "version": 3
   },
   "file_extension": ".py",
   "mimetype": "text/x-python",
   "name": "python",
   "nbconvert_exporter": "python",
   "pygments_lexer": "ipython3",
   "version": "3.7.9"
  },
  "papermill": {
   "default_parameters": {},
   "duration": 10905.585439,
   "end_time": "2021-04-01T12:56:42.206510",
   "environment_variables": {},
   "exception": null,
   "input_path": "__notebook__.ipynb",
   "output_path": "__notebook__.ipynb",
   "parameters": {},
   "start_time": "2021-04-01T09:54:56.621071",
   "version": "2.3.2"
  }
 },
 "nbformat": 4,
 "nbformat_minor": 5
}
